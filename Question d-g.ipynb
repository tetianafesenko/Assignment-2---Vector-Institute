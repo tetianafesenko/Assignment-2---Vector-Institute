{
 "cells": [
  {
   "attachments": {},
   "cell_type": "markdown",
   "metadata": {},
   "source": [
    "### d) Prompt ChatGPT to write you a function (e.g., selectmodel) which trains a decision tree classifier using 2 different values of max_depth, as well as two different split criteria (information gain and Gini coefficient), evaluates the performance of each one on the validation set, and prints the resuls of each model. Expand the number of max_depth values to 10 and run your function [2]"
   ]
  },
  {
   "attachments": {},
   "cell_type": "markdown",
   "metadata": {},
   "source": [
    "Here's an example function select_model that trains a decision tree classifier using different values of max_depth and split criteria (criterion) and evaluates the performance on the validation set:\n"
   ]
  },
  {
   "cell_type": "code",
   "execution_count": 1,
   "metadata": {},
   "outputs": [],
   "source": [
    "from sklearn.tree import DecisionTreeClassifier\n",
    "from sklearn.metrics import accuracy_score\n",
    "\n",
    "def select_model(X_train, y_train, X_val, y_val, max_depths=[2, 5, 10], criteria=['entropy', 'gini']):\n",
    "    for max_depth in max_depths:\n",
    "        for criterion in criteria:\n",
    "            clf = DecisionTreeClassifier(max_depth=max_depth, criterion=criterion)\n",
    "            clf.fit(X_train, y_train)\n",
    "            y_pred = clf.predict(X_val)\n",
    "            acc = accuracy_score(y_val, y_pred)\n",
    "            print(f\"Max depth: {max_depth}, Criterion: {criterion}, Accuracy: {acc}\")\n"
   ]
  },
  {
   "attachments": {},
   "cell_type": "markdown",
   "metadata": {},
   "source": [
    "The function takes in the training set X_train and y_train, as well as the validation set X_val and y_val. The max_depths parameter specifies the different values of max_depth to try, and the criteria parameter specifies the different split criteria to try.\n",
    "\n",
    "For each combination of max_depth and criterion, the function trains a decision tree classifier, predicts on the validation set, and calculates the accuracy score. The function then prints the max_depth, criterion, and accuracy of the model.\n",
    "\n",
    "To run the function with max_depths values expanded to 10, you can simply call the function with max_depths parameter set to [2, 3, 4, 5, 6, 7, 8, 9, 10]:"
   ]
  },
  {
   "cell_type": "code",
   "execution_count": 3,
   "metadata": {},
   "outputs": [
    {
     "name": "stdout",
     "output_type": "stream",
     "text": [
      "Max depth: 2, Criterion: entropy, Accuracy: 1.0\n",
      "Max depth: 2, Criterion: gini, Accuracy: 1.0\n",
      "Max depth: 3, Criterion: entropy, Accuracy: 1.0\n",
      "Max depth: 3, Criterion: gini, Accuracy: 1.0\n",
      "Max depth: 4, Criterion: entropy, Accuracy: 1.0\n",
      "Max depth: 4, Criterion: gini, Accuracy: 1.0\n",
      "Max depth: 5, Criterion: entropy, Accuracy: 1.0\n",
      "Max depth: 5, Criterion: gini, Accuracy: 1.0\n",
      "Max depth: 6, Criterion: entropy, Accuracy: 1.0\n",
      "Max depth: 6, Criterion: gini, Accuracy: 1.0\n",
      "Max depth: 7, Criterion: entropy, Accuracy: 1.0\n",
      "Max depth: 7, Criterion: gini, Accuracy: 1.0\n",
      "Max depth: 8, Criterion: entropy, Accuracy: 1.0\n",
      "Max depth: 8, Criterion: gini, Accuracy: 1.0\n",
      "Max depth: 9, Criterion: entropy, Accuracy: 1.0\n",
      "Max depth: 9, Criterion: gini, Accuracy: 1.0\n",
      "Max depth: 10, Criterion: entropy, Accuracy: 1.0\n",
      "Max depth: 10, Criterion: gini, Accuracy: 1.0\n"
     ]
    }
   ],
   "source": [
    "from sklearn.datasets import load_iris\n",
    "from sklearn.model_selection import train_test_split\n",
    "\n",
    "# Load the iris dataset\n",
    "iris = load_iris()\n",
    "\n",
    "# Split the data into training, validation, and test sets\n",
    "X_train, X_valtest, y_train, y_valtest = train_test_split(iris.data, iris.target, test_size=0.4, random_state=42)\n",
    "X_val, X_test, y_val, y_test = train_test_split(X_valtest, y_valtest, test_size=0.5, random_state=42)\n",
    "\n",
    "# Call select_model function with the defined variables\n",
    "select_model(X_train, y_train, X_val, y_val, max_depths=[2, 3, 4, 5, 6, 7, 8, 9, 10], criteria=['entropy', 'gini'])\n"
   ]
  },
  {
   "cell_type": "markdown",
   "metadata": {},
   "source": []
  }
 ],
 "metadata": {
  "kernelspec": {
   "display_name": "base",
   "language": "python",
   "name": "python3"
  },
  "language_info": {
   "codemirror_mode": {
    "name": "ipython",
    "version": 3
   },
   "file_extension": ".py",
   "mimetype": "text/x-python",
   "name": "python",
   "nbconvert_exporter": "python",
   "pygments_lexer": "ipython3",
   "version": "3.9.13"
  },
  "orig_nbformat": 4,
  "vscode": {
   "interpreter": {
    "hash": "a62fd136276fed91f6bd43fed7357d0a16a5b27a1b0724ce6c7fbeb3eb3270d7"
   }
  }
 },
 "nbformat": 4,
 "nbformat_minor": 2
}
