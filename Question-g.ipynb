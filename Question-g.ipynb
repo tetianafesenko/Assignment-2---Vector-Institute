{
 "cells": [
  {
   "attachments": {},
   "cell_type": "markdown",
   "metadata": {},
   "source": [
    "### g) With the help of ChatGPT, replace the decision tree classifier with Random forest or XGBoost. XGBoost is currently the state of the art for heterogeneous tabular data and builds decision trees sequentially such that each subsequent tree corrects earlier mistakes. XGBoost can reveal important features in the decision process. Identify the most important features for your classification task. [5 pts]"
   ]
  },
  {
   "cell_type": "code",
   "execution_count": null,
   "metadata": {},
   "outputs": [],
   "source": []
  }
 ],
 "metadata": {
  "kernelspec": {
   "display_name": "base",
   "language": "python",
   "name": "python3"
  },
  "language_info": {
   "name": "python",
   "version": "3.9.13"
  },
  "orig_nbformat": 4,
  "vscode": {
   "interpreter": {
    "hash": "a62fd136276fed91f6bd43fed7357d0a16a5b27a1b0724ce6c7fbeb3eb3270d7"
   }
  }
 },
 "nbformat": 4,
 "nbformat_minor": 2
}
